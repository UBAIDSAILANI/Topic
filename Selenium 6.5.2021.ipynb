{
 "cells": [
  {
   "cell_type": "markdown",
   "metadata": {},
   "source": [
    "# Selenium is an automation libary"
   ]
  },
  {
   "cell_type": "markdown",
   "metadata": {},
   "source": [
    "- first install selenium and then driver of chrome installation"
   ]
  },
  {
   "cell_type": "code",
   "execution_count": 12,
   "metadata": {},
   "outputs": [],
   "source": [
    "from selenium import webdriver\n",
    "import time"
   ]
  },
  {
   "cell_type": "code",
   "execution_count": 9,
   "metadata": {},
   "outputs": [
    {
     "data": {
      "text/plain": [
       "<selenium.webdriver.chrome.webdriver.WebDriver (session=\"7e8a4cdb365055a5d57929b58f792a1f\")>"
      ]
     },
     "execution_count": 9,
     "metadata": {},
     "output_type": "execute_result"
    }
   ],
   "source": [
    "driver = webdriver.Chrome(executable_path=\"C:/Users/R01-PC01/chromedriver.exe\")\n",
    "driver"
   ]
  },
  {
   "cell_type": "code",
   "execution_count": 10,
   "metadata": {},
   "outputs": [],
   "source": [
    "# .get"
   ]
  },
  {
   "cell_type": "code",
   "execution_count": 15,
   "metadata": {},
   "outputs": [],
   "source": [
    "driver = webdriver.Chrome(executable_path=\"C:/Users/R01-PC01/chromedriver.exe\")\n",
    "\n",
    "#.get\n",
    "#driver.get(\"https://www.eurasiaonline.ie/store/Above-5-kg-c48470739\")\n",
    "#time.sleep\n",
    "#time.sleep(5)\n",
    "#.close\n",
    "#driver.close()\n",
    "#.back\n",
    "# driver.get(\"https://www.eurasiaonline.ie/store/Above-5-kg-c48470739\")\n",
    "\n",
    "# time.sleep(5)\n",
    "\n",
    "# driver.get(\"https://www.eurasiaonline.ie/store/Ashvill-Chakki-Atta-10-Kg-p188932835\")\n",
    "#time.sleep(5)\n",
    "#driver.back()\n",
    "# driver.forward()\n",
    "# time.sleep(5)\n",
    "# driver.close()"
   ]
  },
  {
   "cell_type": "code",
   "execution_count": 25,
   "metadata": {},
   "outputs": [
    {
     "name": "stdout",
     "output_type": "stream",
     "text": [
      "[<selenium.webdriver.remote.webelement.WebElement (session=\"21fe47b5d02f2277fc96939000fc0c45\", element=\"06ebd1a1-af8b-475f-b889-bdf1ea1e48df\")>, <selenium.webdriver.remote.webelement.WebElement (session=\"21fe47b5d02f2277fc96939000fc0c45\", element=\"aff9ab3c-a86d-4243-81dc-3eecaca2665e\")>, <selenium.webdriver.remote.webelement.WebElement (session=\"21fe47b5d02f2277fc96939000fc0c45\", element=\"b95935cd-172c-4032-897d-ffc7da33d722\")>, <selenium.webdriver.remote.webelement.WebElement (session=\"21fe47b5d02f2277fc96939000fc0c45\", element=\"43a05c81-687d-46df-8412-7c749f9c7ccf\")>, <selenium.webdriver.remote.webelement.WebElement (session=\"21fe47b5d02f2277fc96939000fc0c45\", element=\"a9aee0a9-2477-4de5-9f2c-77ea0f9c21d6\")>, <selenium.webdriver.remote.webelement.WebElement (session=\"21fe47b5d02f2277fc96939000fc0c45\", element=\"3993f7f8-41e3-42b1-9834-d20c6a0bf6b7\")>, <selenium.webdriver.remote.webelement.WebElement (session=\"21fe47b5d02f2277fc96939000fc0c45\", element=\"4e7c4f70-b29f-4ce1-adf4-5f27d2088fce\")>, <selenium.webdriver.remote.webelement.WebElement (session=\"21fe47b5d02f2277fc96939000fc0c45\", element=\"4751a8e7-a13a-4677-84a8-a420a8c32822\")>, <selenium.webdriver.remote.webelement.WebElement (session=\"21fe47b5d02f2277fc96939000fc0c45\", element=\"4843829e-5b5f-479e-b3ff-6113d6dd6a46\")>, <selenium.webdriver.remote.webelement.WebElement (session=\"21fe47b5d02f2277fc96939000fc0c45\", element=\"dd72a86f-0cb5-42fd-962d-4e9a1ceb3916\")>, <selenium.webdriver.remote.webelement.WebElement (session=\"21fe47b5d02f2277fc96939000fc0c45\", element=\"3e2c3eee-bbbc-4e91-be43-f2bc9de72a72\")>, <selenium.webdriver.remote.webelement.WebElement (session=\"21fe47b5d02f2277fc96939000fc0c45\", element=\"640a6e40-17a2-4ceb-aa79-61b7f1d065c2\")>, <selenium.webdriver.remote.webelement.WebElement (session=\"21fe47b5d02f2277fc96939000fc0c45\", element=\"5ca5a177-bd54-408c-b286-7683a9b9e66e\")>, <selenium.webdriver.remote.webelement.WebElement (session=\"21fe47b5d02f2277fc96939000fc0c45\", element=\"3af7159d-abff-4886-b0c7-7017ff30ddba\")>, <selenium.webdriver.remote.webelement.WebElement (session=\"21fe47b5d02f2277fc96939000fc0c45\", element=\"17ce496f-f40a-43fa-a307-027309a53861\")>, <selenium.webdriver.remote.webelement.WebElement (session=\"21fe47b5d02f2277fc96939000fc0c45\", element=\"83828479-dc20-4e29-9714-f7b82ed565f9\")>, <selenium.webdriver.remote.webelement.WebElement (session=\"21fe47b5d02f2277fc96939000fc0c45\", element=\"d0f1f66b-f506-460e-8cc1-f380fd8578bb\")>]\n"
     ]
    }
   ],
   "source": [
    "driver = webdriver.Chrome(executable_path=\"C:/Users/R01-PC01/chromedriver.exe\")\n",
    "\n",
    "driver.get(\"https://www.eurasiaonline.ie/store/Above-5-kg-c48470739\")\n",
    "\n",
    "time.sleep(5)\n",
    "#single element by x path\n",
    "\n",
    "#element = driver.find_elements_by_xpath(\"//*[@id='my-store-15331630']/div/div/div/div[2]/div/div[2]/div/div[1]/div/div[2]/div[2]/div[2]/div/div[1]/div/div[2]/a[2]\")\n",
    "#print(element)\n",
    "\n",
    "#find element by class name\n",
    "element = driver.find_elements_by_class_name(\"grid-product__title-inner\")\n",
    "print(element)\n",
    "driver.close()"
   ]
  },
  {
   "cell_type": "code",
   "execution_count": 33,
   "metadata": {},
   "outputs": [
    {
     "name": "stdout",
     "output_type": "stream",
     "text": [
      "[<selenium.webdriver.remote.webelement.WebElement (session=\"b5f76eef09c5ecc282dfbe7d423583be\", element=\"219218f8-5d7e-43eb-9a74-e000d87c749f\")>, <selenium.webdriver.remote.webelement.WebElement (session=\"b5f76eef09c5ecc282dfbe7d423583be\", element=\"1a561efe-6cb6-42e5-a5e2-666f13b07b57\")>, <selenium.webdriver.remote.webelement.WebElement (session=\"b5f76eef09c5ecc282dfbe7d423583be\", element=\"1e07f97c-8408-4d7d-8e92-a011e7a2e761\")>, <selenium.webdriver.remote.webelement.WebElement (session=\"b5f76eef09c5ecc282dfbe7d423583be\", element=\"f06c86cf-ce55-4809-8c57-3194c1a227ba\")>, <selenium.webdriver.remote.webelement.WebElement (session=\"b5f76eef09c5ecc282dfbe7d423583be\", element=\"fb8e23b5-7f67-4295-ba89-68e1f1388703\")>, <selenium.webdriver.remote.webelement.WebElement (session=\"b5f76eef09c5ecc282dfbe7d423583be\", element=\"87edbd08-0bf5-4bc9-9341-0dd5a604e2a1\")>, <selenium.webdriver.remote.webelement.WebElement (session=\"b5f76eef09c5ecc282dfbe7d423583be\", element=\"8aa594a0-fdab-48ec-9350-ea8124c5350e\")>, <selenium.webdriver.remote.webelement.WebElement (session=\"b5f76eef09c5ecc282dfbe7d423583be\", element=\"41d5c09c-fa93-409b-8415-572dc38aa66d\")>, <selenium.webdriver.remote.webelement.WebElement (session=\"b5f76eef09c5ecc282dfbe7d423583be\", element=\"1327f460-5b00-46a3-b0b2-36cb0ebe7165\")>, <selenium.webdriver.remote.webelement.WebElement (session=\"b5f76eef09c5ecc282dfbe7d423583be\", element=\"428a5545-5b30-4582-8cda-6bee99778b75\")>, <selenium.webdriver.remote.webelement.WebElement (session=\"b5f76eef09c5ecc282dfbe7d423583be\", element=\"504c6526-4b3c-437e-9ed3-d058911b5052\")>, <selenium.webdriver.remote.webelement.WebElement (session=\"b5f76eef09c5ecc282dfbe7d423583be\", element=\"913f19d0-c57b-4d02-9d6f-0fde7b3cbf18\")>, <selenium.webdriver.remote.webelement.WebElement (session=\"b5f76eef09c5ecc282dfbe7d423583be\", element=\"c1ea002f-834b-43c7-a8b1-94078809433f\")>, <selenium.webdriver.remote.webelement.WebElement (session=\"b5f76eef09c5ecc282dfbe7d423583be\", element=\"f8104063-7687-4747-bedf-59991563f1f7\")>, <selenium.webdriver.remote.webelement.WebElement (session=\"b5f76eef09c5ecc282dfbe7d423583be\", element=\"a4c54991-0f1f-46a2-ba27-d279d77c73c7\")>, <selenium.webdriver.remote.webelement.WebElement (session=\"b5f76eef09c5ecc282dfbe7d423583be\", element=\"8e56e993-9c93-4f3d-9ef8-326978cde8db\")>, <selenium.webdriver.remote.webelement.WebElement (session=\"b5f76eef09c5ecc282dfbe7d423583be\", element=\"d2e45c9c-0767-4441-b6b1-11f397febfe3\")>]\n",
      "17\n"
     ]
    }
   ],
   "source": [
    "driver = webdriver.Chrome(executable_path=\"C:/Users/R01-PC01/chromedriver.exe\")\n",
    "\n",
    "driver.get(\"https://www.eurasiaonline.ie/store/Above-5-kg-c48470739\")\n",
    "\n",
    "time.sleep(5)\n",
    "\n",
    "element = driver.find_elements_by_xpath(\"//div[@class='grid-product__title-inner']\")\n",
    "\n",
    "print(element)\n",
    "\n",
    "driver.close()\n",
    "print(len(element))\n"
   ]
  },
  {
   "cell_type": "code",
   "execution_count": 38,
   "metadata": {},
   "outputs": [
    {
     "name": "stdout",
     "output_type": "stream",
     "text": [
      "Aashirvaad Chakki Atta 10 Kg\n",
      "https://www.eurasiaonline.ie/store/Aashirvaad-Chakki-Atta-10-Kg-p188932771\n"
     ]
    }
   ],
   "source": [
    "driver = webdriver.Chrome(executable_path=\"C:/Users/R01-PC01/chromedriver.exe\")\n",
    "driver.get(\"https://www.eurasiaonline.ie/store/Above-5-kg-c48470739\")\n",
    "\n",
    "time.sleep(5)\n",
    "element = driver.find_element_by_xpath(\"//*[@id='my-store-15331630']/div/div/div/div[2]/div/div[2]/div/div[1]/div/div[2]/div[2]/div[2]/div/div[1]/div/div[2]/a[2]\")\n",
    "\n",
    "\n",
    "#get.text\n",
    "print(element.text)\n",
    "\n",
    "#get_attribute\n",
    "print(element.get_attribute(\"href\"))\n",
    "driver.close()"
   ]
  },
  {
   "cell_type": "code",
   "execution_count": 42,
   "metadata": {},
   "outputs": [
    {
     "name": "stdout",
     "output_type": "stream",
     "text": [
      "https://www.eurasiaonline.ie/store/Aashirvaad-Chakki-Atta-10-Kg-p188932771\n",
      "https://www.eurasiaonline.ie/store/Ashvill-Chakki-Atta-10-Kg-p188932835\n",
      "https://www.eurasiaonline.ie/store/Ashvill-Chakki-Atta-20-Kg-p188932836\n",
      "https://www.eurasiaonline.ie/store/East-End-Chakki-Gold-Atta-10-Kg-p188974154\n",
      "https://www.eurasiaonline.ie/store/Elephant-Atta-Medium-10-Kg-p188974268\n",
      "https://www.eurasiaonline.ie/store/Elephant-Atta-Medium-25-Kg-p188974269\n",
      "https://www.eurasiaonline.ie/store/Elephant-Atta-White-10-Kg-p188974270\n",
      "https://www.eurasiaonline.ie/store/Elephant-Brown-Atta-10-Kg-p188974271\n",
      "https://www.eurasiaonline.ie/store/Elite-Chakki-Atta-10-Kg-p188974273\n",
      "https://www.eurasiaonline.ie/store/Elite-Chakki-Atta-10-Kg-p188974274\n",
      "https://www.eurasiaonline.ie/store/Heera-Chapatti-Flour-25-Kg-p188974517\n",
      "https://www.eurasiaonline.ie/store/Heera-Chapatti-Medium-10-Kg-p188974518\n",
      "https://www.eurasiaonline.ie/store/Iwisa-Flour-10-Kg-p188974692\n",
      "https://www.eurasiaonline.ie/store/Pillsbury-Chakki-Atta-10-Kg-p188975075\n",
      "https://www.eurasiaonline.ie/store/Swarna-Chakki-Fresh-Atta-10-Kg-p188975372\n",
      "https://www.eurasiaonline.ie/store/Anil-Atta-10Kg-p283220946\n",
      "https://www.eurasiaonline.ie/store/Anil-Chakki-Atta-10Kg-p283225642\n"
     ]
    },
    {
     "data": {
      "text/plain": [
       "<bound method WebDriver.close of <selenium.webdriver.chrome.webdriver.WebDriver (session=\"3500382f926912ef57495014e8c76d38\")>>"
      ]
     },
     "execution_count": 42,
     "metadata": {},
     "output_type": "execute_result"
    }
   ],
   "source": [
    "driver = webdriver.Chrome(executable_path=\"C:/Users/R01-PC01/chromedriver.exe\")\n",
    "driver.get(\"https://www.eurasiaonline.ie/store/Above-5-kg-c48470739\")\n",
    "time.sleep(5)\n",
    "element = driver.find_elements_by_class_name('grid-product__title')\n",
    "\n",
    "for i in element:\n",
    "    print(i.get_attribute(\"href\"))\n",
    "driver.close"
   ]
  },
  {
   "cell_type": "code",
   "execution_count": 1,
   "metadata": {},
   "outputs": [],
   "source": [
    "from selenium import webdriver\n",
    "import time"
   ]
  },
  {
   "cell_type": "code",
   "execution_count": 10,
   "metadata": {},
   "outputs": [],
   "source": [
    "driver = webdriver.Chrome(executable_path=\"C:/Users/R01-PC01/chromedriver.exe\")\n",
    "driver.get(\"https://www.facebook.com/\")\n",
    "\n",
    "time.sleep(5)\n",
    "#.send_keys\n",
    "email = driver.find_element_by_id(\"email\").send_keys(\"03323372149\")\n",
    "password = driver.find_element_by_id(\"pass\").send_keys(\"abcdefg\")\n",
    "\n",
    "#>.click\n",
    "btn =driver.find_element_by_xpath(\"//button[@class='_42ft _4jy0 _6lth _4jy6 _4jy1 selected _51sy']\")\n",
    "btn.click()\n",
    "\n",
    "time.sleep(5)\n",
    "\n",
    "#driver.close()"
   ]
  },
  {
   "cell_type": "code",
   "execution_count": 34,
   "metadata": {},
   "outputs": [],
   "source": [
    "driver = webdriver.Chrome(executable_path=\"C:/Users/R01-PC01/chromedriver.exe\")\n",
    "driver.get(\"https://www.facebook.com/signup\")\n",
    "\n",
    "time.sleep(5)\n",
    "#.send_keys\n",
    "firstname= driver.find_element_by_name(\"firstname\")\n",
    "firstname.send_keys(\"Ubaid Ghanchi\")\n",
    "surname= driver.find_element_by_name(\"lastname\")\n",
    "surname.send_keys(\"Ghanchi\")\n",
    "mob_num= driver.find_element_by_name(\"reg_email__\")\n",
    "mob_num.send_keys(\"03323372149\")\n",
    "password= driver.find_element_by_name(\"reg_passwd__\")\n",
    "password.send_keys(\"123456789\")\n",
    "day= driver.find_element_by_id(\"day\")\n",
    "day.send_keys(\"12\")\n",
    "month= driver.find_element_by_id(\"month\")\n",
    "month.send_keys(\"July\")\n",
    "year= driver.find_element_by_id(\"year\")\n",
    "year.send_keys(\"2000\")\n",
    "checkbox= driver.find_element_by_xpath('//input[@value=\"2\"]')\n",
    "checkbox.click()\n",
    "#password = driver.find_element_by_id(\"pass\").send_keys(\"abcdefg\")"
   ]
  },
  {
   "cell_type": "code",
   "execution_count": 36,
   "metadata": {},
   "outputs": [],
   "source": [
    "driver = webdriver.Chrome(executable_path=\"C:/Users/R01-PC01/chromedriver.exe\")\n",
    "driver.get(\"https://www.eurasiaonline.ie/store/Above-5-kg-c48470739\")\n",
    "\n",
    "time.sleep(5)\n",
    "#by.pixel\n",
    "#driver.execute_script(\"window.scrollBy(0,1000)\",\"\")\n",
    "driver.execute_script(\"window.scrollBy(0,document.body.height)\")"
   ]
  },
  {
   "cell_type": "code",
   "execution_count": null,
   "metadata": {},
   "outputs": [],
   "source": []
  }
 ],
 "metadata": {
  "kernelspec": {
   "display_name": "Python 3",
   "language": "python",
   "name": "python3"
  },
  "language_info": {
   "codemirror_mode": {
    "name": "ipython",
    "version": 3
   },
   "file_extension": ".py",
   "mimetype": "text/x-python",
   "name": "python",
   "nbconvert_exporter": "python",
   "pygments_lexer": "ipython3",
   "version": "3.8.5"
  }
 },
 "nbformat": 4,
 "nbformat_minor": 4
}
