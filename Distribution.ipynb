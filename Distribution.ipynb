{
 "cells": [
  {
   "cell_type": "code",
   "execution_count": 2,
   "metadata": {},
   "outputs": [],
   "source": [
    "import pandas as pd \n",
    "import numpy as np\n",
    "import matplotlib.pyplot as plt"
   ]
  },
  {
   "cell_type": "code",
   "execution_count": 3,
   "metadata": {},
   "outputs": [],
   "source": [
    "data = pd.read_csv('Distribution.csv')"
   ]
  },
  {
   "cell_type": "code",
   "execution_count": 4,
   "metadata": {},
   "outputs": [
    {
     "data": {
      "text/html": [
       "<div>\n",
       "<style scoped>\n",
       "    .dataframe tbody tr th:only-of-type {\n",
       "        vertical-align: middle;\n",
       "    }\n",
       "\n",
       "    .dataframe tbody tr th {\n",
       "        vertical-align: top;\n",
       "    }\n",
       "\n",
       "    .dataframe thead th {\n",
       "        text-align: right;\n",
       "    }\n",
       "</style>\n",
       "<table border=\"1\" class=\"dataframe\">\n",
       "  <thead>\n",
       "    <tr style=\"text-align: right;\">\n",
       "      <th></th>\n",
       "      <th>Original dataset</th>\n",
       "      <th>Unnamed: 1</th>\n",
       "      <th>Unnamed: 2</th>\n",
       "      <th>Unnamed: 3</th>\n",
       "      <th>Unnamed: 4</th>\n",
       "      <th>Unnamed: 5</th>\n",
       "      <th>Unnamed: 6</th>\n",
       "      <th>Subtract mean</th>\n",
       "      <th>Unnamed: 8</th>\n",
       "      <th>Unnamed: 9</th>\n",
       "      <th>Unnamed: 10</th>\n",
       "      <th>Unnamed: 11</th>\n",
       "      <th>Task 2</th>\n",
       "      <th>Standardized</th>\n",
       "      <th>Unnamed: 14</th>\n",
       "      <th>Unnamed: 15</th>\n",
       "      <th>Unnamed: 16</th>\n",
       "    </tr>\n",
       "  </thead>\n",
       "  <tbody>\n",
       "    <tr>\n",
       "      <th>0</th>\n",
       "      <td>567</td>\n",
       "      <td>NaN</td>\n",
       "      <td>NaN</td>\n",
       "      <td>NaN</td>\n",
       "      <td>NaN</td>\n",
       "      <td>NaN</td>\n",
       "      <td>NaN</td>\n",
       "      <td>-175.58</td>\n",
       "      <td>NaN</td>\n",
       "      <td>NaN</td>\n",
       "      <td>NaN</td>\n",
       "      <td>NaN</td>\n",
       "      <td>NaN</td>\n",
       "      <td>-2.37</td>\n",
       "      <td>NaN</td>\n",
       "      <td>NaN</td>\n",
       "      <td>NaN</td>\n",
       "    </tr>\n",
       "    <tr>\n",
       "      <th>1</th>\n",
       "      <td>572</td>\n",
       "      <td>NaN</td>\n",
       "      <td>Mean</td>\n",
       "      <td>743.027083</td>\n",
       "      <td>NaN</td>\n",
       "      <td>NaN</td>\n",
       "      <td>NaN</td>\n",
       "      <td>-170.58</td>\n",
       "      <td>NaN</td>\n",
       "      <td>Mean</td>\n",
       "      <td>0.00</td>\n",
       "      <td>NaN</td>\n",
       "      <td>NaN</td>\n",
       "      <td>-2.31</td>\n",
       "      <td>NaN</td>\n",
       "      <td>Mean</td>\n",
       "      <td>0.0</td>\n",
       "    </tr>\n",
       "    <tr>\n",
       "      <th>2</th>\n",
       "      <td>572</td>\n",
       "      <td>NaN</td>\n",
       "      <td>St. dev</td>\n",
       "      <td>73.950000</td>\n",
       "      <td>NaN</td>\n",
       "      <td>NaN</td>\n",
       "      <td>NaN</td>\n",
       "      <td>-170.58</td>\n",
       "      <td>NaN</td>\n",
       "      <td>St. dev</td>\n",
       "      <td>73.95</td>\n",
       "      <td>NaN</td>\n",
       "      <td>NaN</td>\n",
       "      <td>-2.31</td>\n",
       "      <td>NaN</td>\n",
       "      <td>St. dev</td>\n",
       "      <td>1.0</td>\n",
       "    </tr>\n",
       "    <tr>\n",
       "      <th>3</th>\n",
       "      <td>589</td>\n",
       "      <td>NaN</td>\n",
       "      <td>NaN</td>\n",
       "      <td>NaN</td>\n",
       "      <td>NaN</td>\n",
       "      <td>NaN</td>\n",
       "      <td>NaN</td>\n",
       "      <td>-153.91</td>\n",
       "      <td>NaN</td>\n",
       "      <td>NaN</td>\n",
       "      <td>NaN</td>\n",
       "      <td>NaN</td>\n",
       "      <td>NaN</td>\n",
       "      <td>-2.08</td>\n",
       "      <td>NaN</td>\n",
       "      <td>NaN</td>\n",
       "      <td>NaN</td>\n",
       "    </tr>\n",
       "    <tr>\n",
       "      <th>4</th>\n",
       "      <td>614</td>\n",
       "      <td>NaN</td>\n",
       "      <td>NaN</td>\n",
       "      <td>NaN</td>\n",
       "      <td>NaN</td>\n",
       "      <td>NaN</td>\n",
       "      <td>NaN</td>\n",
       "      <td>-129.16</td>\n",
       "      <td>NaN</td>\n",
       "      <td>NaN</td>\n",
       "      <td>NaN</td>\n",
       "      <td>NaN</td>\n",
       "      <td>NaN</td>\n",
       "      <td>-1.75</td>\n",
       "      <td>Task 3.3</td>\n",
       "      <td>NaN</td>\n",
       "      <td>NaN</td>\n",
       "    </tr>\n",
       "    <tr>\n",
       "      <th>...</th>\n",
       "      <td>...</td>\n",
       "      <td>...</td>\n",
       "      <td>...</td>\n",
       "      <td>...</td>\n",
       "      <td>...</td>\n",
       "      <td>...</td>\n",
       "      <td>...</td>\n",
       "      <td>...</td>\n",
       "      <td>...</td>\n",
       "      <td>...</td>\n",
       "      <td>...</td>\n",
       "      <td>...</td>\n",
       "      <td>...</td>\n",
       "      <td>...</td>\n",
       "      <td>...</td>\n",
       "      <td>...</td>\n",
       "      <td>...</td>\n",
       "    </tr>\n",
       "    <tr>\n",
       "      <th>75</th>\n",
       "      <td>843</td>\n",
       "      <td>NaN</td>\n",
       "      <td>NaN</td>\n",
       "      <td>NaN</td>\n",
       "      <td>NaN</td>\n",
       "      <td>NaN</td>\n",
       "      <td>NaN</td>\n",
       "      <td>99.84</td>\n",
       "      <td>NaN</td>\n",
       "      <td>NaN</td>\n",
       "      <td>NaN</td>\n",
       "      <td>NaN</td>\n",
       "      <td>NaN</td>\n",
       "      <td>1.35</td>\n",
       "      <td>NaN</td>\n",
       "      <td>NaN</td>\n",
       "      <td>NaN</td>\n",
       "    </tr>\n",
       "    <tr>\n",
       "      <th>76</th>\n",
       "      <td>850</td>\n",
       "      <td>NaN</td>\n",
       "      <td>NaN</td>\n",
       "      <td>NaN</td>\n",
       "      <td>NaN</td>\n",
       "      <td>NaN</td>\n",
       "      <td>NaN</td>\n",
       "      <td>106.59</td>\n",
       "      <td>NaN</td>\n",
       "      <td>NaN</td>\n",
       "      <td>NaN</td>\n",
       "      <td>NaN</td>\n",
       "      <td>NaN</td>\n",
       "      <td>1.44</td>\n",
       "      <td>NaN</td>\n",
       "      <td>NaN</td>\n",
       "      <td>NaN</td>\n",
       "    </tr>\n",
       "    <tr>\n",
       "      <th>77</th>\n",
       "      <td>875</td>\n",
       "      <td>NaN</td>\n",
       "      <td>NaN</td>\n",
       "      <td>NaN</td>\n",
       "      <td>NaN</td>\n",
       "      <td>NaN</td>\n",
       "      <td>NaN</td>\n",
       "      <td>131.67</td>\n",
       "      <td>NaN</td>\n",
       "      <td>NaN</td>\n",
       "      <td>NaN</td>\n",
       "      <td>NaN</td>\n",
       "      <td>NaN</td>\n",
       "      <td>1.78</td>\n",
       "      <td>NaN</td>\n",
       "      <td>NaN</td>\n",
       "      <td>NaN</td>\n",
       "    </tr>\n",
       "    <tr>\n",
       "      <th>78</th>\n",
       "      <td>879</td>\n",
       "      <td>NaN</td>\n",
       "      <td>NaN</td>\n",
       "      <td>NaN</td>\n",
       "      <td>NaN</td>\n",
       "      <td>NaN</td>\n",
       "      <td>NaN</td>\n",
       "      <td>135.76</td>\n",
       "      <td>NaN</td>\n",
       "      <td>NaN</td>\n",
       "      <td>NaN</td>\n",
       "      <td>NaN</td>\n",
       "      <td>NaN</td>\n",
       "      <td>1.84</td>\n",
       "      <td>NaN</td>\n",
       "      <td>NaN</td>\n",
       "      <td>NaN</td>\n",
       "    </tr>\n",
       "    <tr>\n",
       "      <th>79</th>\n",
       "      <td>897</td>\n",
       "      <td>NaN</td>\n",
       "      <td>NaN</td>\n",
       "      <td>NaN</td>\n",
       "      <td>NaN</td>\n",
       "      <td>NaN</td>\n",
       "      <td>NaN</td>\n",
       "      <td>154.42</td>\n",
       "      <td>NaN</td>\n",
       "      <td>NaN</td>\n",
       "      <td>NaN</td>\n",
       "      <td>NaN</td>\n",
       "      <td>NaN</td>\n",
       "      <td>2.09</td>\n",
       "      <td>NaN</td>\n",
       "      <td>NaN</td>\n",
       "      <td>NaN</td>\n",
       "    </tr>\n",
       "  </tbody>\n",
       "</table>\n",
       "<p>80 rows × 17 columns</p>\n",
       "</div>"
      ],
      "text/plain": [
       "    Original dataset  Unnamed: 1 Unnamed: 2  Unnamed: 3  Unnamed: 4  \\\n",
       "0                567         NaN        NaN         NaN         NaN   \n",
       "1                572         NaN       Mean  743.027083         NaN   \n",
       "2                572         NaN    St. dev   73.950000         NaN   \n",
       "3                589         NaN        NaN         NaN         NaN   \n",
       "4                614         NaN        NaN         NaN         NaN   \n",
       "..               ...         ...        ...         ...         ...   \n",
       "75               843         NaN        NaN         NaN         NaN   \n",
       "76               850         NaN        NaN         NaN         NaN   \n",
       "77               875         NaN        NaN         NaN         NaN   \n",
       "78               879         NaN        NaN         NaN         NaN   \n",
       "79               897         NaN        NaN         NaN         NaN   \n",
       "\n",
       "    Unnamed: 5  Unnamed: 6  Subtract mean  Unnamed: 8 Unnamed: 9  Unnamed: 10  \\\n",
       "0          NaN         NaN        -175.58         NaN        NaN          NaN   \n",
       "1          NaN         NaN        -170.58         NaN       Mean         0.00   \n",
       "2          NaN         NaN        -170.58         NaN    St. dev        73.95   \n",
       "3          NaN         NaN        -153.91         NaN        NaN          NaN   \n",
       "4          NaN         NaN        -129.16         NaN        NaN          NaN   \n",
       "..         ...         ...            ...         ...        ...          ...   \n",
       "75         NaN         NaN          99.84         NaN        NaN          NaN   \n",
       "76         NaN         NaN         106.59         NaN        NaN          NaN   \n",
       "77         NaN         NaN         131.67         NaN        NaN          NaN   \n",
       "78         NaN         NaN         135.76         NaN        NaN          NaN   \n",
       "79         NaN         NaN         154.42         NaN        NaN          NaN   \n",
       "\n",
       "    Unnamed: 11  Task 2  Standardized Unnamed: 14 Unnamed: 15  Unnamed: 16  \n",
       "0           NaN     NaN         -2.37         NaN         NaN          NaN  \n",
       "1           NaN     NaN         -2.31         NaN        Mean          0.0  \n",
       "2           NaN     NaN         -2.31         NaN     St. dev          1.0  \n",
       "3           NaN     NaN         -2.08         NaN         NaN          NaN  \n",
       "4           NaN     NaN         -1.75    Task 3.3         NaN          NaN  \n",
       "..          ...     ...           ...         ...         ...          ...  \n",
       "75          NaN     NaN          1.35         NaN         NaN          NaN  \n",
       "76          NaN     NaN          1.44         NaN         NaN          NaN  \n",
       "77          NaN     NaN          1.78         NaN         NaN          NaN  \n",
       "78          NaN     NaN          1.84         NaN         NaN          NaN  \n",
       "79          NaN     NaN          2.09         NaN         NaN          NaN  \n",
       "\n",
       "[80 rows x 17 columns]"
      ]
     },
     "execution_count": 4,
     "metadata": {},
     "output_type": "execute_result"
    }
   ],
   "source": [
    "data"
   ]
  },
  {
   "cell_type": "code",
   "execution_count": 5,
   "metadata": {},
   "outputs": [
    {
     "data": {
      "text/plain": [
       "743.0375"
      ]
     },
     "execution_count": 5,
     "metadata": {},
     "output_type": "execute_result"
    }
   ],
   "source": [
    "df=data['Original dataset'].mean()\n",
    "df"
   ]
  },
  {
   "cell_type": "code",
   "execution_count": 6,
   "metadata": {},
   "outputs": [
    {
     "data": {
      "text/plain": [
       "74.0426568381063"
      ]
     },
     "execution_count": 6,
     "metadata": {},
     "output_type": "execute_result"
    }
   ],
   "source": [
    "fst = data['Original dataset'].std()\n",
    "fst"
   ]
  },
  {
   "cell_type": "code",
   "execution_count": 23,
   "metadata": {},
   "outputs": [],
   "source": [
    "w=17\n",
    "import math\n",
    "interval=math.ceil((data[\"Original dataset\"].max() - data[\"Original dataset\"].min())/w)"
   ]
  },
  {
   "cell_type": "code",
   "execution_count": 27,
   "metadata": {},
   "outputs": [
    {
     "data": {
      "text/plain": [
       "(array([ 3.,  1.,  2.,  1.,  1.,  4.,  5.,  3.,  5.,  6., 11.,  8.,  3.,\n",
       "         5.,  8.,  7.,  3.,  1.,  2.,  1.]),\n",
       " array([567. , 583.5, 600. , 616.5, 633. , 649.5, 666. , 682.5, 699. ,\n",
       "        715.5, 732. , 748.5, 765. , 781.5, 798. , 814.5, 831. , 847.5,\n",
       "        864. , 880.5, 897. ]),\n",
       " <BarContainer object of 20 artists>)"
      ]
     },
     "execution_count": 27,
     "metadata": {},
     "output_type": "execute_result"
    },
    {
     "data": {
      "image/png": "[encoded data removed]",
      "text/plain": [
       "<Figure size 432x288 with 1 Axes>"
      ]
     },
     "metadata": {
      "needs_background": "light"
     },
     "output_type": "display_data"
    }
   ],
   "source": [
    "plt.hist(data[\"Original dataset\"],bins=interval)\n"
   ]
  },
  {
   "cell_type": "code",
   "execution_count": 34,
   "metadata": {},
   "outputs": [
    {
     "data": {
      "text/plain": [
       "0    -176.0375\n",
       "1    -171.0375\n",
       "2    -171.0375\n",
       "3    -154.0375\n",
       "4    -129.0375\n",
       "        ...   \n",
       "75     99.9625\n",
       "76    106.9625\n",
       "77    131.9625\n",
       "78    135.9625\n",
       "79    153.9625\n",
       "Name: Original dataset, Length: 80, dtype: float64"
      ]
     },
     "execution_count": 34,
     "metadata": {},
     "output_type": "execute_result"
    }
   ],
   "source": [
    "sub_mean = data['Original dataset']-df\n",
    "sub_mean"
   ]
  },
  {
   "cell_type": "code",
   "execution_count": 35,
   "metadata": {},
   "outputs": [
    {
     "data": {
      "text/plain": [
       "6.536993168992921e-14"
      ]
     },
     "execution_count": 35,
     "metadata": {},
     "output_type": "execute_result"
    }
   ],
   "source": [
    "sub_mean.mean()"
   ]
  },
  {
   "cell_type": "code",
   "execution_count": 36,
   "metadata": {},
   "outputs": [
    {
     "data": {
      "text/plain": [
       "(array([ 3.,  1.,  2.,  1.,  1.,  4.,  5.,  3.,  5.,  6., 11.,  8.,  3.,\n",
       "         5.,  8.,  7.,  3.,  1.,  2.,  1.]),\n",
       " array([-176.0375, -159.5375, -143.0375, -126.5375, -110.0375,  -93.5375,\n",
       "         -77.0375,  -60.5375,  -44.0375,  -27.5375,  -11.0375,    5.4625,\n",
       "          21.9625,   38.4625,   54.9625,   71.4625,   87.9625,  104.4625,\n",
       "         120.9625,  137.4625,  153.9625]),\n",
       " <BarContainer object of 20 artists>)"
      ]
     },
     "execution_count": 36,
     "metadata": {},
     "output_type": "execute_result"
    },
    {
     "data": {
      "image/png": "[encoded data removed]",
      "text/plain": [
       "<Figure size 432x288 with 1 Axes>"
      ]
     },
     "metadata": {
      "needs_background": "light"
     },
     "output_type": "display_data"
    }
   ],
   "source": [
    "plt.hist(sub_mean,bins=interval)"
   ]
  },
  {
   "cell_type": "code",
   "execution_count": 39,
   "metadata": {},
   "outputs": [
    {
     "data": {
      "text/plain": [
       "74.0426568381063"
      ]
     },
     "execution_count": 39,
     "metadata": {},
     "output_type": "execute_result"
    }
   ],
   "source": [
    "sst=sub_mean.std()\n",
    "sst"
   ]
  },
  {
   "cell_type": "code",
   "execution_count": 40,
   "metadata": {},
   "outputs": [
    {
     "data": {
      "text/plain": [
       "0    -2.377515\n",
       "1    -2.309986\n",
       "2    -2.309986\n",
       "3    -2.080389\n",
       "4    -1.742745\n",
       "        ...   \n",
       "75    1.350066\n",
       "76    1.444606\n",
       "77    1.782250\n",
       "78    1.836273\n",
       "79    2.079376\n",
       "Name: Original dataset, Length: 80, dtype: float64"
      ]
     },
     "execution_count": 40,
     "metadata": {},
     "output_type": "execute_result"
    }
   ],
   "source": [
    "standardized = (sub_mean / sst)\n",
    "standardized"
   ]
  },
  {
   "cell_type": "code",
   "execution_count": 41,
   "metadata": {},
   "outputs": [
    {
     "data": {
      "text/plain": [
       "-3.0531133177191805e-16"
      ]
     },
     "execution_count": 41,
     "metadata": {},
     "output_type": "execute_result"
    }
   ],
   "source": [
    "standardized.mean()"
   ]
  },
  {
   "cell_type": "code",
   "execution_count": 42,
   "metadata": {},
   "outputs": [
    {
     "data": {
      "text/plain": [
       "1.0000000000000002"
      ]
     },
     "execution_count": 42,
     "metadata": {},
     "output_type": "execute_result"
    }
   ],
   "source": [
    "standardized.std()"
   ]
  },
  {
   "cell_type": "code",
   "execution_count": 43,
   "metadata": {},
   "outputs": [
    {
     "data": {
      "text/plain": [
       "(array([ 3.,  1.,  2.,  1.,  1.,  4.,  5.,  3.,  5.,  7., 10.,  8.,  3.,\n",
       "         6.,  7.,  7.,  3.,  1.,  2.,  1.]),\n",
       " array([-2.37751463, -2.15467012, -1.9318256 , -1.70898108, -1.48613657,\n",
       "        -1.26329205, -1.04044754, -0.81760302, -0.59475851, -0.37191399,\n",
       "        -0.14906948,  0.07377504,  0.29661956,  0.51946407,  0.74230859,\n",
       "         0.9651531 ,  1.18799762,  1.41084213,  1.63368665,  1.85653117,\n",
       "         2.07937568]),\n",
       " <BarContainer object of 20 artists>)"
      ]
     },
     "execution_count": 43,
     "metadata": {},
     "output_type": "execute_result"
    },
    {
     "data": {
      "image/png": "[encoded data removed]",
      "text/plain": [
       "<Figure size 432x288 with 1 Axes>"
      ]
     },
     "metadata": {
      "needs_background": "light"
     },
     "output_type": "display_data"
    }
   ],
   "source": [
    "plt.hist(standardized,bins=interval)"
   ]
  },
  {
   "cell_type": "code",
   "execution_count": null,
   "metadata": {},
   "outputs": [],
   "source": []
  }
 ],
 "metadata": {
  "kernelspec": {
   "display_name": "Python 3",
   "language": "python",
   "name": "python3"
  },
  "language_info": {
   "codemirror_mode": {
    "name": "ipython",
    "version": 3
   },
   "file_extension": ".py",
   "mimetype": "text/x-python",
   "name": "python",
   "nbconvert_exporter": "python",
   "pygments_lexer": "ipython3",
   "version": "3.8.5"
  }
 },
 "nbformat": 4,
 "nbformat_minor": 4
}
