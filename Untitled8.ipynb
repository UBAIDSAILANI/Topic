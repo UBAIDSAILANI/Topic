{
 "cells": [
  {
   "cell_type": "code",
   "execution_count": 31,
   "metadata": {},
   "outputs": [],
   "source": [
    "# creation of text file\n",
    "# open (file name, to write)\n",
    "#Obj/link file Handler (koi bhi lafz likh sakty hain)\n",
    "#important thing is that no need to create a file\n",
    "#if we are adding text then it will be overite again again\n",
    "#read function is an otherfunction can be read file on single option addition of word content is needed \n",
    "#seek function is also a superb \n",
    "with open(\"jingo.txt\",'w') as link:\n",
    "    link.write(\"Hello File I am over\\n\")\n",
    "    link.write(\"Hello File I am over2\\n\")\n",
    "    link.write(\"Hello File I am over4\\n\")\n",
    "    link.write(\"Hello File I am over6\\n\")"
   ]
  },
  {
   "cell_type": "code",
   "execution_count": 32,
   "metadata": {},
   "outputs": [
    {
     "name": "stdout",
     "output_type": "stream",
     "text": [
      "Hello File I am over\n",
      "Hello File I am over2\n",
      "Hello File I am over4\n",
      "Hello File I am over6\n",
      "\n",
      "am over\n",
      "Hello File I am over2\n",
      "Hello File I am over4\n",
      "Hello File I am over6\n",
      "\n",
      "\n",
      "\n"
     ]
    }
   ],
   "source": [
    "with open(\"jingo.txt\", 'r') as f:\n",
    "    content = f.read()\n",
    "    f.seek(13)\n",
    "    content1 = f.read()\n",
    "    content2 = f.read()\n",
    "    content3 = f.read()\n",
    "print(content)\n",
    "print(content1)\n",
    "print(content2)\n",
    "print(content3)"
   ]
  },
  {
   "cell_type": "code",
   "execution_count": 58,
   "metadata": {},
   "outputs": [],
   "source": [
    "with open ('jingo.txt', 'r') as f:\n",
    "    xyz= f.readlines()"
   ]
  },
  {
   "cell_type": "code",
   "execution_count": 59,
   "metadata": {},
   "outputs": [
    {
     "data": {
      "text/plain": [
       "['Hello File I am over\\n',\n",
       " 'Hello File I am over2\\n',\n",
       " 'Hello File I am over4\\n',\n",
       " 'Hello File I am over6\\n',\n",
       " 'Hello File I am over\\n',\n",
       " 'Hello File I am over2\\n',\n",
       " 'Hello File I am over4\\n',\n",
       " 'Hello File I am over6\\n',\n",
       " 'Hello File I am over\\n',\n",
       " 'Hello File I am over1\\n',\n",
       " 'Hello File I am over3\\n',\n",
       " 'Hello File I am over5\\n']"
      ]
     },
     "execution_count": 59,
     "metadata": {},
     "output_type": "execute_result"
    }
   ],
   "source": [
    "xyz"
   ]
  },
  {
   "cell_type": "code",
   "execution_count": 57,
   "metadata": {},
   "outputs": [],
   "source": [
    "with open(\"jingo.txt\",'a') as link:\n",
    "    link.write(\"Hello File I am over\\n\")\n",
    "    link.write(\"Hello File I am over1\\n\")\n",
    "    link.write(\"Hello File I am over3\\n\")\n",
    "    link.write(\"Hello File I am over5\\n\")"
   ]
  },
  {
   "cell_type": "code",
   "execution_count": 60,
   "metadata": {},
   "outputs": [],
   "source": [
    "# w+ is method which can be write and read and if the file is doesn't exist it create file firstly and then read.\n",
    "with open(\"jingo.txt\",'w+') as link:\n",
    "    link.write(\"Hello File I am over\\n\")\n",
    "    link.write(\"Hello File I am over2\\n\")\n",
    "    link.write(\"Hello File I am over4\\n\")\n",
    "    link.write(\"Hello File I am over6\\n\")"
   ]
  },
  {
   "cell_type": "code",
   "execution_count": null,
   "metadata": {},
   "outputs": [],
   "source": []
  }
 ],
 "metadata": {
  "kernelspec": {
   "display_name": "Python 3",
   "language": "python",
   "name": "python3"
  },
  "language_info": {
   "codemirror_mode": {
    "name": "ipython",
    "version": 3
   },
   "file_extension": ".py",
   "mimetype": "text/x-python",
   "name": "python",
   "nbconvert_exporter": "python",
   "pygments_lexer": "ipython3",
   "version": "3.8.5"
  }
 },
 "nbformat": 4,
 "nbformat_minor": 4
}
